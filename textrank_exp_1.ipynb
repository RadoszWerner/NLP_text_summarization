{
 "cells": [
  {
   "cell_type": "code",
   "execution_count": null,
   "id": "cd78c051",
   "metadata": {},
   "outputs": [],
   "source": [
    "import numpy as np\n",
    "import networkx as nx\n",
    "from nltk.corpus import stopwords\n",
    "from nltk.tokenize import sent_tokenize, word_tokenize\n",
    "from sklearn.feature_extraction.text import TfidfVectorizer\n",
    "from sklearn.metrics.pairwise import cosine_similarity\n",
    "from datasets import load_dataset\n",
    "from rouge import Rouge\n",
    "import spacy \n",
    "\n"
   ]
  },
  {
   "cell_type": "code",
   "execution_count": null,
   "id": "08a467e7",
   "metadata": {},
   "outputs": [],
   "source": [
    "dataset = load_dataset(\"cnn_dailymail\", \"3.0.0\")\n",
    "nlp = spacy.load(\"en_core_web_sm\")"
   ]
  },
  {
   "cell_type": "code",
   "execution_count": null,
   "id": "3dfc4c2f",
   "metadata": {},
   "outputs": [],
   "source": [
    "def preprocess_text(text):\n",
    "    # Usuń znaczniki specjalne (np. \"(CNN)\", \"--\", \"''\")\n",
    "    text = text.replace(\"(CNN)\", \"\").replace(\"--\", \"\").replace(\"''\", '\"')\n",
    "    \n",
    "    # Podział na zdania\n",
    "    sentences = sent_tokenize(text)\n",
    "    \n",
    "    # Czyszczenie zdań\n",
    "    stop_words = set(stopwords.words(\"english\"))\n",
    "    preprocessed = []\n",
    "    for sent in sentences:\n",
    "        words = word_tokenize(sent.lower())\n",
    "        words = [word for word in words if word.isalnum() and word not in stop_words]\n",
    "        preprocessed.append(\" \".join(words))\n",
    "    \n",
    "    return preprocessed, sentences  # Zwraca zdania przetworzone i oryginalne"
   ]
  },
  {
   "cell_type": "code",
   "execution_count": null,
   "id": "5a777362",
   "metadata": {},
   "outputs": [],
   "source": [
    "def textrank_cnn_dailymail(article, num_sentences=5):\n",
    "    preprocessed, original_sentences = preprocess_text(article)\n",
    "    \n",
    "    vectorizer = TfidfVectorizer()\n",
    "    tfidf_matrix = vectorizer.fit_transform(preprocessed)\n",
    "    sim_matrix = cosine_similarity(tfidf_matrix, tfidf_matrix)\n",
    "    \n",
    "    np.fill_diagonal(sim_matrix, 0)\n",
    "    graph = nx.from_numpy_array(sim_matrix)\n",
    "    scores = nx.pagerank(graph, max_iter=1000, tol=0.0001)\n",
    "    \n",
    "    \n",
    "    ranked_sentences = sorted(((scores[i], i) for i in range(len(original_sentences))), reverse=True)\n",
    "    selected_indices = [ranked_sentences[i][1] for i in range(min(num_sentences, len(ranked_sentences)))]\n",
    "    selected_indices.sort()\n",
    "    \n",
    "    return \" \".join([original_sentences[i] for i in selected_indices])"
   ]
  },
  {
   "cell_type": "code",
   "execution_count": 18,
   "id": "f30f5a42",
   "metadata": {},
   "outputs": [
    {
     "name": "stdout",
     "output_type": "stream",
     "text": [
      "Wygenerowane podsumowanie:\n",
      " LONDON, England (Reuters)  Harry Potter star Daniel Radcliffe gains access to a reported £20 million ($41.1 million) fortune as he turns 18 on Monday, but he insists the money won't cast a spell on him. Daniel Radcliffe as Harry Potter in \"Harry Potter and the Order of the Phoenix\" To the disappointment of gossip columnists around the world, the young actor says he has no plans to fritter his cash away on fast cars, drink and celebrity parties. \"I don't plan to be one of those people who, as soon as they turn 18, suddenly buy themselves a massive sports car collection or something similar,\" he told an Australian interviewer earlier this month. His latest outing as the boy wizard in \"Harry Potter and the Order of the Phoenix\" is breaking records on both sides of the Atlantic and he will reprise the role in the last two films. Meanwhile, he is braced for even closer media scrutiny now that he's legally an adult: \"I just think I'm going to be more sort of fair game,\" he told Reuters.\n",
      "\n",
      "Docelowy highlight:\n",
      " Harry Potter star Daniel Radcliffe gets £20M fortune as he turns 18 Monday .\n",
      "Young actor says he has no plans to fritter his cash away .\n",
      "Radcliffe's earnings from first five Potter films have been held in trust fund .\n"
     ]
    }
   ],
   "source": [
    "podsumowanie = textrank_cnn_dailymail(przykladowy_artykul, num_sentences=5)\n",
    "print(\"Wygenerowane podsumowanie:\\n\", podsumowanie)\n",
    "print(\"\\nDocelowy highlight:\\n\", przykladowy_highlight)"
   ]
  },
  {
   "cell_type": "code",
   "execution_count": 19,
   "id": "4cdc00ed",
   "metadata": {},
   "outputs": [
    {
     "name": "stdout",
     "output_type": "stream",
     "text": [
      "Artykuł 1:\n",
      "Podsumowanie: LONDON, England (Reuters)  Harry Potter star Daniel Radcliffe gains access to a reported £20 million ($41.1 million) fortune as he turns 18 on Monday, but he insists the money won't cast a spell on him. Daniel Radcliffe as Harry Potter in \"Harry Potter and the Order of the Phoenix\" To the disappointment of gossip columnists around the world, the young actor says he has no plans to fritter his cash away on fast cars, drink and celebrity parties. \"I don't plan to be one of those people who, as soon as they turn 18, suddenly buy themselves a massive sports car collection or something similar,\" he told an Australian interviewer earlier this month. His latest outing as the boy wizard in \"Harry Potter and the Order of the Phoenix\" is breaking records on both sides of the Atlantic and he will reprise the role in the last two films. Meanwhile, he is braced for even closer media scrutiny now that he's legally an adult: \"I just think I'm going to be more sort of fair game,\" he told Reuters.\n",
      "Highlight: Harry Potter star Daniel Radcliffe gets £20M fortune as he turns 18 Monday .\n",
      "Young actor says he has no plans to fritter his cash away .\n",
      "Radcliffe's earnings from first five Potter films have been held in trust fund .\n",
      "\n",
      "--------------------------------------------------\n",
      "\n",
      "Artykuł 2:\n",
      "Podsumowanie: Here, Soledad O'Brien takes users inside a jail where many of the inmates are mentally ill. An inmate housed on the \"forgotten floor,\" where many mentally ill inmates are housed in Miami before trial. Leifman says about one-third of all people in Miami-Dade county jails are mentally ill. Leifman says 200 years ago people were considered \"lunatics\" and they were locked up in jails even if they had no charges against them. But Leifman says many of these mental hospitals were so horrible they were shut down. Leifman says in 1955 there were more than half a million people in state mental hospitals, and today that number has been reduced 90 percent, and 40,000 to 50,000 people are in mental hospitals.\n",
      "Highlight: Mentally ill inmates in Miami are housed on the \"forgotten floor\"\n",
      "Judge Steven Leifman says most are there as a result of \"avoidable felonies\"\n",
      "While CNN tours facility, patient shouts: \"I am the son of the president\"\n",
      "Leifman says the system is unjust and he's fighting for change .\n",
      "\n",
      "--------------------------------------------------\n",
      "\n",
      "Artykuł 3:\n",
      "Podsumowanie: \"The whole bridge from one side of the Mississippi to the other just completely gave way, fell all the way down,\" survivor Gary Babineau told CNN. \"I could see the whole bridge as it was going down, as it was falling,\" Babineau said. Babineau said the rear of his pickup truck was dangling over the edge of a broken-off section of the bridge. I saw a couple cars fall,\" he said. Babineau told the Minneapolis Star-Tribune: \"On the way down, I thought I was dead.\n",
      "Highlight: NEW: \"I thought I was going to die,\" driver says .\n",
      "Man says pickup truck was folded in half; he just has cut on face .\n",
      "Driver: \"I probably had a 30-, 35-foot free fall\"\n",
      "Minnesota bridge collapsed during rush hour Wednesday .\n",
      "\n",
      "--------------------------------------------------\n",
      "\n",
      "Artykuł 4:\n",
      "Podsumowanie: WASHINGTON   Doctors removed five small polyps from President Bush's colon on Saturday, and \"none appeared worrisome,\" a White House spokesman said. The polyps were removed and sent to the National Naval Medical Center in Bethesda, Maryland, for routine microscopic examination, spokesman Scott Stanzel said. Small polyps may be removed during the procedure. Snow said on Friday that Bush had polyps removed during colonoscopies before becoming president. Watch Snow talk about Bush's procedure and his own colon cancer » .\n",
      "Highlight: Five small polyps found during procedure; \"none worrisome,\" spokesman says .\n",
      "President reclaims powers transferred to vice president .\n",
      "Bush undergoes routine colonoscopy at Camp David .\n",
      "\n",
      "--------------------------------------------------\n",
      "\n",
      "Artykuł 5:\n",
      "Podsumowanie: In papers filed Friday with a federal court in Virginia, Vick also admitted that he and two co-conspirators killed dogs that did not fight well. In an additional summary of facts, signed by Vick and filed with the agreement, Vick admitted buying pit bulls and the property used for training and fighting the dogs, but the statement said he did not bet on the fights or receive any of the money won. Around April, Vick, Peace and Phillips tested some dogs in fighting sessions at Vick's property in Virginia, the statement said. \"Vick agrees and stipulates that these dogs all died as a result of the collective efforts of Peace, Phillips and Vick,\" the summary said. \"The risk for Vick is, if he makes admissions in his federal guilty plea, the state of Virginia could say, 'Hey, look, you admitted violating Virginia state law as well.\n",
      "Highlight: NEW: NFL chief, Atlanta Falcons owner critical of Michael Vick's conduct .\n",
      "NFL suspends Falcons quarterback indefinitely without pay .\n",
      "Vick admits funding dogfighting operation but says he did not gamble .\n",
      "Vick due in federal court Monday; future in NFL remains uncertain .\n",
      "\n",
      "--------------------------------------------------\n",
      "\n",
      "Artykuł 6:\n",
      "Podsumowanie: BAGHDAD, Iraq   Dressed in a Superman shirt, 5-year-old Youssif held his sister's hand Friday, seemingly unaware that millions of people across the world have been touched by his story. It's the best birthday present the Iraqi family could ever have imagined for their boy: Youssif turns 6 next Friday. He talked about how he tried in vain to get help for his son in Baghdad, leaving \"no stone unturned\" on a mission to help his boy. The family eventually told CNN their story  that Youssif was grabbed by masked men outside their home on January 15, doused in gasoline and set on fire. Shortly after Youssif's story aired Wednesday, the Children's Burn Foundation  a nonprofit organization based in Sherman Oaks, California, that provides support for burn victims locally, nationally and internationally  agreed to pay for the transportation for Youssif and his family to come to the United States and to set up a fund for donations.\n",
      "Highlight: Parents beam with pride, can't stop from smiling from outpouring of support .\n",
      "Mom: \"I was so happy I didn't know what to do\"\n",
      "Burn center in U.S. has offered to provide treatment for reconstructive surgeries .\n",
      "Dad says, \"Anything for Youssif\"\n",
      "\n",
      "--------------------------------------------------\n",
      "\n",
      "Artykuł 7:\n",
      "Podsumowanie: She says her husband thinks she is cleaning houses when she leaves home. Suha's husband thinks that she is cleaning houses when she goes away. \"It's increasing,\" Suha says. \"At this point there is a population of women who have to sell their bodies in order to keep their children alive,\" says Yanar Mohammed, head and founder of the Organization for Women's Freedom in Iraq. Karima says when she sees her children with food on the table, she is able to convince herself that it's worth it.\n",
      "Highlight: Aid workers: Violence, increased cost of living drive women to prostitution .\n",
      "Group is working to raise awareness of the problem with Iraq's political leaders .\n",
      "Two Iraqi mothers tell CNN they turned to prostitution to help feed their children .\n",
      "\"Everything is for the children,\" one woman says .\n",
      "\n",
      "--------------------------------------------------\n",
      "\n",
      "Artykuł 8:\n",
      "Podsumowanie: Alleged cocaine trafficker and FARC rebel Tomas Medina Caracas in an Interpol photo. Tomas Medina Caracas, known popularly as \"El Negro Acacio,\" was a member of the high command of the Fuerzas Armadas Revolucionarias de Colombia and, according to Colombian and U.S. officials, helped manage the group's extensive cocaine trafficking network. U.S. officials alleged Medina Caracas managed the rebel group's sales of cocaine to international drug traffickers, who in turn smuggled it into the United States. Officials said the army's Rapid Response Force, backed by elements of the Colombian Air Force, tracked Medina Caracas down at a FARC camp in the jungle in the south of the country. Established in 1964 as the military wing of the Colombian Communist Party, FARC is Colombia's oldest, largest, most capable and best-equipped Marxist rebel group, according to the U.S. Department of State.\n",
      "Highlight: Tomas Medina Caracas was a fugitive from a U.S. drug trafficking indictment .\n",
      "\"El Negro Acacio\" allegedly helped manage extensive cocaine network .\n",
      "U.S. Justice Department indicted him in 2002 .\n",
      "Colombian military: He was killed in an attack on a guerrilla encampment .\n",
      "\n",
      "--------------------------------------------------\n",
      "\n",
      "Artykuł 9:\n",
      "Podsumowanie: WASHINGTON   White House press secretary Tony Snow, who is undergoing treatment for cancer, will step down from his post September 14 and be replaced by deputy press secretary Dana Perino, the White House announced Friday. White House press secretary Tony Snow will step down from his post on September 14. Flanked by Snow and Perino in the White House press room, the president spoke warmly of his departing press secretary. Bush said he was certain of two things in regard to Snow. Snow, speaking after Bush at the start of the daily White House news conference, said he was leaving to earn more money.\n",
      "Highlight: President Bush says Tony Snow \"will battle cancer and win\"  Job of press secretary \"has been a dream for me,\" Snow says  Snow leaving on September 14, will be succeeded by Dana Perino .\n",
      "\n",
      "--------------------------------------------------\n",
      "\n",
      "Artykuł 10:\n",
      "Podsumowanie:   Police and FBI agents are investigating the discovery of an empty rocket launcher tube on the front lawn of a Jersey City, New Jersey, home, FBI spokesman Sean Quinn said. Niranjan Desai discovered the 20-year-old AT4 anti-tank rocket launcher tube, a one-time-use device, lying on her lawn Friday morning, police said. The launcher has been turned over to U.S. Army officials at the 754th Ordnance Company, an explosive ordnance disposal unit, at Fort Monmouth, New Jersey, Army officials said. Army officials said they could not determine if the launcher had been fired, but indicated they should know once they find out where it came from. An Army official said the device is basically a shoulder-fired, direct-fire weapon used against ground targets  a modern-day bazooka  and it is not wire-guided.\n",
      "Highlight: Empty anti-tank weapon turns up in front of New Jersey home .\n",
      "Device handed over to Army ordnance disposal unit .\n",
      "Weapon not capable of being reloaded, experts say .\n",
      "\n",
      "--------------------------------------------------\n",
      "\n"
     ]
    }
   ],
   "source": [
    "# Wczytaj dataset\n",
    "dataset = load_dataset(\"cnn_dailymail\", \"3.0.0\")\n",
    "\n",
    "# Przetwórz 10 artykułów i porównaj z highlights\n",
    "for i in range(10):\n",
    "    article = dataset[\"train\"][i][\"article\"]\n",
    "    highlight = dataset[\"train\"][i][\"highlights\"]\n",
    "    summary = textrank_cnn_dailymail(article, num_sentences=5)\n",
    "    print(f\"Artykuł {i+1}:\")\n",
    "    print(\"Podsumowanie:\", summary)\n",
    "    print(\"Highlight:\", highlight)\n",
    "    print(\"\\n\" + \"-\"*50 + \"\\n\")"
   ]
  },
  {
   "cell_type": "code",
   "execution_count": 20,
   "id": "03831f4f",
   "metadata": {},
   "outputs": [
    {
     "data": {
      "text/plain": [
       "'  Police and FBI agents are investigating the discovery of an empty rocket launcher tube on the front lawn of a Jersey City, New Jersey, home, FBI spokesman Sean Quinn said. Niranjan Desai discovered the 20-year-old AT4 anti-tank rocket launcher tube, a one-time-use device, lying on her lawn Friday morning, police said. The launcher has been turned over to U.S. Army officials at the 754th Ordnance Company, an explosive ordnance disposal unit, at Fort Monmouth, New Jersey, Army officials said. Army officials said they could not determine if the launcher had been fired, but indicated they should know once they find out where it came from. An Army official said the device is basically a shoulder-fired, direct-fire weapon used against ground targets  a modern-day bazooka  and it is not wire-guided.'"
      ]
     },
     "execution_count": 20,
     "metadata": {},
     "output_type": "execute_result"
    }
   ],
   "source": [
    "summary"
   ]
  },
  {
   "cell_type": "code",
   "execution_count": 21,
   "id": "29502dcc",
   "metadata": {},
   "outputs": [
    {
     "name": "stdout",
     "output_type": "stream",
     "text": [
      "ROUGE-L: 0.25766870821483684\n"
     ]
    }
   ],
   "source": [
    "rouge = Rouge()\n",
    "\n",
    "wyniki = rouge.get_scores(podsumowanie, przykladowy_highlight)\n",
    "print(\"ROUGE-L:\", wyniki[0][\"rouge-l\"][\"f\"])"
   ]
  }
 ],
 "metadata": {
  "kernelspec": {
   "display_name": "venv",
   "language": "python",
   "name": "python3"
  },
  "language_info": {
   "codemirror_mode": {
    "name": "ipython",
    "version": 3
   },
   "file_extension": ".py",
   "mimetype": "text/x-python",
   "name": "python",
   "nbconvert_exporter": "python",
   "pygments_lexer": "ipython3",
   "version": "3.11.2"
  }
 },
 "nbformat": 4,
 "nbformat_minor": 5
}
