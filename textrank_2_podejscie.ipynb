{
 "cells": [
  {
   "cell_type": "code",
   "execution_count": 1,
   "id": "08a1a85f",
   "metadata": {},
   "outputs": [
    {
     "name": "stderr",
     "output_type": "stream",
     "text": [
      "d:\\Projects\\NLP_text_summarization\\venv\\Lib\\site-packages\\tqdm\\auto.py:21: TqdmWarning: IProgress not found. Please update jupyter and ipywidgets. See https://ipywidgets.readthedocs.io/en/stable/user_install.html\n",
      "  from .autonotebook import tqdm as notebook_tqdm\n"
     ]
    }
   ],
   "source": [
    "import numpy as np\n",
    "import networkx as nx\n",
    "import heapq\n",
    "from nltk.corpus import stopwords\n",
    "from nltk.tokenize import sent_tokenize, word_tokenize\n",
    "from datasets import load_dataset"
   ]
  },
  {
   "cell_type": "code",
   "execution_count": 2,
   "id": "2ea8822b",
   "metadata": {},
   "outputs": [],
   "source": [
    "def preprocess_text(text):\n",
    "    # Usuwanie specjalnych znaczników\n",
    "    text = text.replace(\"(CNN)\", \"\").replace(\"--\", \"\").replace(\"''\", '\"')\n",
    "    \n",
    "    # Podział na zdania\n",
    "    original_sentences = sent_tokenize(text)\n",
    "    \n",
    "    # Czyszczenie zdań\n",
    "    stop_words = set(stopwords.words(\"english\"))\n",
    "    processed_sentences = []\n",
    "    for sent in original_sentences:\n",
    "        words = [word.lower() for word in word_tokenize(sent) if word.isalnum() and word.lower() not in stop_words]\n",
    "        processed_sentences.append(\" \".join(words))\n",
    "    \n",
    "    return original_sentences, processed_sentences"
   ]
  },
  {
   "cell_type": "code",
   "execution_count": 3,
   "id": "22093949",
   "metadata": {},
   "outputs": [],
   "source": [
    "def textrank_summarize(article, top_n=5, damping_factor=0.85, similarity_threshold=0.1):\n",
    "    # Jedno przetworzenie tekstu\n",
    "    original_sentences, processed_sentences = preprocess_text(article)\n",
    "    n = len(original_sentences)\n",
    "    \n",
    "    if n == 0:\n",
    "        return \"\"\n",
    "    \n",
    "    # Macierz podobieństw (zoptymalizowana wersja)\n",
    "    similarity_matrix = np.zeros((n, n))\n",
    "    for i in range(n):\n",
    "        for j in range(n):\n",
    "            if i != j:\n",
    "                set_i = set(processed_sentences[i].split())\n",
    "                set_j = set(processed_sentences[j].split())\n",
    "                intersection = len(set_i & set_j)\n",
    "                denominator = np.log(len(set_i) + 1e-8) + np.log(len(set_j) + 1e-8)  # Zabezpieczenie przed log(0)\n",
    "                similarity_matrix[i][j] = intersection / denominator if denominator != 0 else 0\n",
    "                \n",
    "    # Graf i PageRank\n",
    "    graph = nx.from_numpy_array(similarity_matrix)\n",
    "    graph.remove_edges_from([(u, v) for u, v, w in graph.edges(data=\"weight\") if w < similarity_threshold])\n",
    "    scores = nx.pagerank(graph, alpha=damping_factor)\n",
    "    \n",
    "    # Wybór i sortowanie zdań\n",
    "    ranked_indices = sorted(\n",
    "        heapq.nlargest(top_n, range(n), key=lambda i: scores[i]),\n",
    "        key=lambda x: x  # Zachowaj kolejność oryginalną\n",
    "    )\n",
    "    \n",
    "    return \" \".join([original_sentences[i] for i in ranked_indices])"
   ]
  },
  {
   "cell_type": "code",
   "execution_count": 5,
   "id": "5dc5d378",
   "metadata": {},
   "outputs": [],
   "source": [
    "dataset = load_dataset(\"cnn_dailymail\", \"3.0.0\", split=\"train[:10]\")"
   ]
  },
  {
   "cell_type": "code",
   "execution_count": 6,
   "id": "2feaf0cc",
   "metadata": {},
   "outputs": [
    {
     "name": "stderr",
     "output_type": "stream",
     "text": [
      "Map:   0%|          | 0/10 [00:00<?, ? examples/s]"
     ]
    },
    {
     "name": "stderr",
     "output_type": "stream",
     "text": [
      "Map: 100%|██████████| 10/10 [00:00<00:00, 72.45 examples/s]"
     ]
    },
    {
     "name": "stdout",
     "output_type": "stream",
     "text": [
      "\n",
      "Artykuł 1:\n",
      "Oryginalne podsumowanie: Harry Potter star Daniel Radcliffe gets £20M fortune as he turns 18 Monday .\n",
      "Young actor says he has no plans to fritter his cash away .\n",
      "Radcliffe's earnings from first five Potter films have been held in trust fund .\n",
      "Wygenerowane podsumowanie: LONDON, England (Reuters)  Harry Potter star Daniel Radcliffe gains access to a reported £20 million ($41.1 million) fortune as he turns 18 on Monday, but he insists the money won't cast a spell on him. Daniel Radcliffe as Harry Potter in \"Harry Potter and the Order of the Phoenix\" To the disappointment of gossip columnists around the world, the young actor says he has no plans to fritter his cash away on fast cars, drink and celebrity parties. \"I don't plan to be one of those people who, as soon as they turn 18, suddenly buy themselves a massive sports car collection or something similar,\" he told an Australian interviewer earlier this month. At 18, Radcliffe will be able to gamble in a casino, buy a drink in a pub or see the horror film \"Hostel: Part II,\" currently six places below his number one movie on the UK box office chart. His latest outing as the boy wizard in \"Harry Potter and the Order of the Phoenix\" is breaking records on both sides of the Atlantic and he will reprise the role in the last two films.\n",
      "====================================================================================================\n",
      "\n",
      "Artykuł 2:\n",
      "Oryginalne podsumowanie: Mentally ill inmates in Miami are housed on the \"forgotten floor\"\n",
      "Judge Steven Leifman says most are there as a result of \"avoidable felonies\"\n",
      "While CNN tours facility, patient shouts: \"I am the son of the president\"\n",
      "Leifman says the system is unjust and he's fighting for change .\n",
      "Wygenerowane podsumowanie: Here, Soledad O'Brien takes users inside a jail where many of the inmates are mentally ill. An inmate housed on the \"forgotten floor,\" where many mentally ill inmates are housed in Miami before trial. Leifman says about one-third of all people in Miami-Dade county jails are mentally ill. Leifman says 200 years ago people were considered \"lunatics\" and they were locked up in jails even if they had no charges against them. But Leifman says many of these mental hospitals were so horrible they were shut down. Leifman says in 1955 there were more than half a million people in state mental hospitals, and today that number has been reduced 90 percent, and 40,000 to 50,000 people are in mental hospitals.\n",
      "====================================================================================================\n",
      "\n",
      "Artykuł 3:\n",
      "Oryginalne podsumowanie: NEW: \"I thought I was going to die,\" driver says .\n",
      "Man says pickup truck was folded in half; he just has cut on face .\n",
      "Driver: \"I probably had a 30-, 35-foot free fall\"\n",
      "Minnesota bridge collapsed during rush hour Wednesday .\n",
      "Wygenerowane podsumowanie: \"The whole bridge from one side of the Mississippi to the other just completely gave way, fell all the way down,\" survivor Gary Babineau told CNN. \"I could see the whole bridge as it was going down, as it was falling,\" Babineau said. Babineau said the rear of his pickup truck was dangling over the edge of a broken-off section of the bridge. \"So I stayed in my car until the cars quit falling for a second, then I got out real quick, ran in front of my truck  because behind my truck was just a hole  and I helped a woman off of the bridge with me. After the bridge settled and his car remained upright, \"I just put in park, turned the key off and said, 'Oh, I'm alive,' \" he said.\n",
      "====================================================================================================\n",
      "\n",
      "Artykuł 4:\n",
      "Oryginalne podsumowanie: Five small polyps found during procedure; \"none worrisome,\" spokesman says .\n",
      "President reclaims powers transferred to vice president .\n",
      "Bush undergoes routine colonoscopy at Camp David .\n",
      "Wygenerowane podsumowanie: WASHINGTON   Doctors removed five small polyps from President Bush's colon on Saturday, and \"none appeared worrisome,\" a White House spokesman said. The polyps were removed and sent to the National Naval Medical Center in Bethesda, Maryland, for routine microscopic examination, spokesman Scott Stanzel said. The procedure was supervised by Dr. Richard Tubb, Bush's physician, and conducted by a multidisciplinary team from the National Naval Medical Center in Bethesda, Maryland, the White House said. Bush's last colonoscopy was in June 2002, and no abnormalities were found, White House spokesman Tony Snow said. Snow said on Friday that Bush had polyps removed during colonoscopies before becoming president.\n",
      "====================================================================================================\n",
      "\n",
      "Artykuł 5:\n",
      "Oryginalne podsumowanie: NEW: NFL chief, Atlanta Falcons owner critical of Michael Vick's conduct .\n",
      "NFL suspends Falcons quarterback indefinitely without pay .\n",
      "Vick admits funding dogfighting operation but says he did not gamble .\n",
      "Vick due in federal court Monday; future in NFL remains uncertain .\n",
      "Wygenerowane podsumowanie: In papers filed Friday with a federal court in Virginia, Vick also admitted that he and two co-conspirators killed dogs that did not fight well. Vick said he would plead guilty to one count of \"Conspiracy to Travel in Interstate Commerce in Aid of Unlawful Activities and to Sponsor a Dog in an Animal Fighting Venture\" in a plea agreement filed at U.S. District Court in Richmond, Virginia. In an additional summary of facts, signed by Vick and filed with the agreement, Vick admitted buying pit bulls and the property used for training and fighting the dogs, but the statement said he did not bet on the fights or receive any of the money won. Around April, Vick, Peace and Phillips tested some dogs in fighting sessions at Vick's property in Virginia, the statement said. \"Vick agrees and stipulates that these dogs all died as a result of the collective efforts of Peace, Phillips and Vick,\" the summary said.\n",
      "====================================================================================================\n",
      "\n",
      "Artykuł 6:\n",
      "Oryginalne podsumowanie: Parents beam with pride, can't stop from smiling from outpouring of support .\n",
      "Mom: \"I was so happy I didn't know what to do\"\n",
      "Burn center in U.S. has offered to provide treatment for reconstructive surgeries .\n",
      "Dad says, \"Anything for Youssif\"\n",
      "Wygenerowane podsumowanie: BAGHDAD, Iraq   Dressed in a Superman shirt, 5-year-old Youssif held his sister's hand Friday, seemingly unaware that millions of people across the world have been touched by his story. It's the best birthday present the Iraqi family could ever have imagined for their boy: Youssif turns 6 next Friday. The family eventually told CNN their story  that Youssif was grabbed by masked men outside their home on January 15, doused in gasoline and set on fire. Shortly after Youssif's story aired Wednesday, the Children's Burn Foundation  a nonprofit organization based in Sherman Oaks, California, that provides support for burn victims locally, nationally and internationally  agreed to pay for the transportation for Youssif and his family to come to the United States and to set up a fund for donations. The foundation says it will cover all medical costs  from surgeries for Youssif to housing costs to any social rehabilitation that might be needed for him.\n",
      "====================================================================================================\n",
      "\n",
      "Artykuł 7:\n",
      "Oryginalne podsumowanie: Aid workers: Violence, increased cost of living drive women to prostitution .\n",
      "Group is working to raise awareness of the problem with Iraq's political leaders .\n",
      "Two Iraqi mothers tell CNN they turned to prostitution to help feed their children .\n",
      "\"Everything is for the children,\" one woman says .\n",
      "Wygenerowane podsumowanie: She says her husband thinks she is cleaning houses when she leaves home. \"People shouldn't criticize women, or talk badly about them,\" says 37-year-old Suha as she adjusts the light colored scarf she wears these days to avoid extremists who insist women cover themselves. \"At this point there is a population of women who have to sell their bodies in order to keep their children alive,\" says Yanar Mohammed, head and founder of the Organization for Women's Freedom in Iraq. According to Rahim and Mohammed, most of the women they encounter say they are driven to prostitution by a desperate desire for survival in the dangerously violent and unforgiving circumstances in Iraq. Karima says when she sees her children with food on the table, she is able to convince herself that it's worth it.\n",
      "====================================================================================================\n",
      "\n",
      "Artykuł 8:\n",
      "Oryginalne podsumowanie: Tomas Medina Caracas was a fugitive from a U.S. drug trafficking indictment .\n",
      "\"El Negro Acacio\" allegedly helped manage extensive cocaine network .\n",
      "U.S. Justice Department indicted him in 2002 .\n",
      "Colombian military: He was killed in an attack on a guerrilla encampment .\n",
      "Wygenerowane podsumowanie: Alleged cocaine trafficker and FARC rebel Tomas Medina Caracas in an Interpol photo. Tomas Medina Caracas, known popularly as \"El Negro Acacio,\" was a member of the high command of the Fuerzas Armadas Revolucionarias de Colombia and, according to Colombian and U.S. officials, helped manage the group's extensive cocaine trafficking network. U.S. officials alleged Medina Caracas managed the rebel group's sales of cocaine to international drug traffickers, who in turn smuggled it into the United States. Officials said the army's Rapid Response Force, backed by elements of the Colombian Air Force, tracked Medina Caracas down at a FARC camp in the jungle in the south of the country. Established in 1964 as the military wing of the Colombian Communist Party, FARC is Colombia's oldest, largest, most capable and best-equipped Marxist rebel group, according to the U.S. Department of State.\n",
      "====================================================================================================\n",
      "\n",
      "Artykuł 9:\n",
      "Oryginalne podsumowanie: President Bush says Tony Snow \"will battle cancer and win\"  Job of press secretary \"has been a dream for me,\" Snow says  Snow leaving on September 14, will be succeeded by Dana Perino .\n",
      "Wygenerowane podsumowanie: WASHINGTON   White House press secretary Tony Snow, who is undergoing treatment for cancer, will step down from his post September 14 and be replaced by deputy press secretary Dana Perino, the White House announced Friday. White House press secretary Tony Snow will step down from his post on September 14. Bush said he was certain of two things in regard to Snow. Snow, speaking after Bush at the start of the daily White House news conference, said he was leaving to earn more money. Snow said on Friday he was to see his oncologist, and they will decide on some minor forms of chemotherapy to start as maintenance treatment.\n",
      "====================================================================================================\n",
      "\n",
      "Artykuł 10:\n",
      "Oryginalne podsumowanie: Empty anti-tank weapon turns up in front of New Jersey home .\n",
      "Device handed over to Army ordnance disposal unit .\n",
      "Weapon not capable of being reloaded, experts say .\n",
      "Wygenerowane podsumowanie:   Police and FBI agents are investigating the discovery of an empty rocket launcher tube on the front lawn of a Jersey City, New Jersey, home, FBI spokesman Sean Quinn said. Niranjan Desai discovered the 20-year-old AT4 anti-tank rocket launcher tube, a one-time-use device, lying on her lawn Friday morning, police said. The launcher has been turned over to U.S. Army officials at the 754th Ordnance Company, an explosive ordnance disposal unit, at Fort Monmouth, New Jersey, Army officials said. Army officials said they could not determine if the launcher had been fired, but indicated they should know once they find out where it came from. \"Al Qaeda doesn't leave a rocket launcher on the lawn of middle-aged ladies,\" said Paul Cruickshank of New York University Law School's Center on Law and Security.\n",
      "====================================================================================================\n"
     ]
    },
    {
     "name": "stderr",
     "output_type": "stream",
     "text": [
      "\n"
     ]
    }
   ],
   "source": [
    "dataset_with_summaries = dataset.map(\n",
    "        lambda batch: {\n",
    "            \"generated_summary\": [textrank_summarize(article) for article in batch[\"article\"]]\n",
    "        },\n",
    "        batched=True,\n",
    "        batch_size=8  # Zwiększ dla lepszej wydajności\n",
    "    )\n",
    "    \n",
    "    # Wyświetl wyniki\n",
    "for i, example in enumerate(dataset_with_summaries):\n",
    "    print(f\"\\nArtykuł {i+1}:\")\n",
    "    print(\"Oryginalne podsumowanie:\", example[\"highlights\"])\n",
    "    print(\"Wygenerowane podsumowanie:\", example[\"generated_summary\"])\n",
    "    print(\"=\" * 100)"
   ]
  }
 ],
 "metadata": {
  "kernelspec": {
   "display_name": "venv",
   "language": "python",
   "name": "python3"
  },
  "language_info": {
   "codemirror_mode": {
    "name": "ipython",
    "version": 3
   },
   "file_extension": ".py",
   "mimetype": "text/x-python",
   "name": "python",
   "nbconvert_exporter": "python",
   "pygments_lexer": "ipython3",
   "version": "3.11.2"
  }
 },
 "nbformat": 4,
 "nbformat_minor": 5
}
